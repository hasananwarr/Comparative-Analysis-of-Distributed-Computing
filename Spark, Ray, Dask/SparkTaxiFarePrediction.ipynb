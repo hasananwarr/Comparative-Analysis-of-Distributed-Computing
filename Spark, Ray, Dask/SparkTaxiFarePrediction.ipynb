{
  "cells": [
    {
      "cell_type": "code",
      "source": [
        "!pip install kagglehub pyspark xgboost findspark kagglehub pyspark==3.5.0 xgboost findspark"
      ],
      "metadata": {
        "id": "CMYU43bxO1ZD"
      },
      "execution_count": null,
      "outputs": []
    },
    {
      "cell_type": "code",
      "source": [
        "from pyspark.ml.evaluation import RegressionEvaluator\n",
        "import os\n",
        "import time\n",
        "import kagglehub\n",
        "import pandas as pd\n",
        "import numpy as np\n",
        "from pyspark.sql import functions as F\n",
        "from pyspark.sql.functions import col, to_timestamp, when\n",
        "from pyspark.sql import SparkSession\n",
        "from pyspark.sql.types import (\n",
        "    StructType, StructField, IntegerType,\n",
        "    DoubleType, StringType, TimestampType\n",
        ")\n",
        "from pyspark.ml.feature import VectorAssembler, StandardScaler\n",
        "from xgboost.spark import SparkXGBRegressor"
      ],
      "metadata": {
        "id": "qFn9MJOe9nz0"
      },
      "execution_count": null,
      "outputs": []
    },
    {
      "cell_type": "code",
      "source": [
        "local_path = kagglehub.dataset_download(\"elemento/nyc-yellow-taxi-trip-data\")\n",
        "print(\"Local dataset path:\", local_path)\n",
        "csv_glob = \"/root/.cache/kagglehub/datasets/elemento/nyc-yellow-taxi-trip-data/versions/2/*.csv\""
      ],
      "metadata": {
        "colab": {
          "base_uri": "https://localhost:8080/"
        },
        "id": "W17raMUmO_O1",
        "outputId": "e23b8d3d-e999-4d1a-e4ce-a1cc2267e528"
      },
      "execution_count": null,
      "outputs": [
        {
          "output_type": "stream",
          "name": "stdout",
          "text": [
            "Local dataset path: /root/.cache/kagglehub/datasets/elemento/nyc-yellow-taxi-trip-data/versions/2\n"
          ]
        }
      ]
    },
    {
      "cell_type": "code",
      "source": [
        "schema = StructType([\n",
        "    StructField(\"VendorID\", IntegerType(), True),\n",
        "    StructField(\"tpep_pickup_datetime\", TimestampType(), True),\n",
        "    StructField(\"tpep_dropoff_datetime\", TimestampType(), True),\n",
        "    StructField(\"passenger_count\", IntegerType(), True),\n",
        "    StructField(\"trip_distance\", DoubleType(), True),\n",
        "    StructField(\"pickup_longitude\", DoubleType(), True),\n",
        "    StructField(\"pickup_latitude\", DoubleType(), True),\n",
        "    StructField(\"RateCodeID\", IntegerType(), True),\n",
        "    StructField(\"store_and_fwd_flag\", StringType(), True),\n",
        "    StructField(\"dropoff_longitude\", DoubleType(), True),\n",
        "    StructField(\"dropoff_latitude\", DoubleType(), True),\n",
        "    StructField(\"payment_type\", IntegerType(), True),\n",
        "    StructField(\"fare_amount\", DoubleType(), True),\n",
        "    StructField(\"extra\", DoubleType(), True),\n",
        "    StructField(\"mta_tax\", DoubleType(), True),\n",
        "    StructField(\"tip_amount\", DoubleType(), True),\n",
        "    StructField(\"tolls_amount\", DoubleType(), True),\n",
        "    StructField(\"improvement_surcharge\", DoubleType(), True),\n",
        "    StructField(\"total_amount\", DoubleType(), True)\n",
        "])\n",
        "\n",
        "config = (SparkSession.builder\n",
        "         .appName(\"NYC Taxi Price Prediction\")\n",
        "         .config(\"spark.driver.memory\", \"120g\")\n",
        "         .config(\"spark.task.cpus\", \"4\")\n",
        "         .config(\"spark.cores\", \"4\")\n",
        "         .config(\"spark.sql.shuffle.partitions\", \"200\")\n",
        "         )\n",
        "\n",
        "spark = config.getOrCreate()\n",
        "df = spark.read.option(\"header\", True).schema(schema).option(\"escape\", \"\\\"\").csv(csv_glob)"
      ],
      "metadata": {
        "id": "DxvojNicPZuf"
      },
      "execution_count": null,
      "outputs": []
    },
    {
      "cell_type": "code",
      "source": [
        "def process_data(df):\n",
        "    df = df.filter((col(\"trip_distance\") != 0) & (col(\"trip_distance\").isNotNull()))\n",
        "    df = df.filter(col(\"tpep_pickup_datetime\").isNotNull() & col(\"tpep_dropoff_datetime\").isNotNull())\n",
        "\n",
        "\n",
        "    trip_distance_quantiles = df.approxQuantile(\"trip_distance\", [0.01, 0.99], 0.01)\n",
        "    fare_amount_quantiles = df.approxQuantile(\"fare_amount\", [0.01, 0.99], 0.01)\n",
        "    df = df.filter(\n",
        "        (col(\"trip_distance\") >= trip_distance_quantiles[0])\n",
        "        & (col(\"trip_distance\") <= trip_distance_quantiles[1])\n",
        "        & (col(\"fare_amount\") >= fare_amount_quantiles[0])\n",
        "        & (col(\"fare_amount\") <= fare_amount_quantiles[1])\n",
        "    )\n",
        "\n",
        "    df = df.withColumn(\"tpep_pickup_datetime\", to_timestamp(col(\"tpep_pickup_datetime\")))\n",
        "    df = df.withColumn(\"tpep_dropoff_datetime\", to_timestamp(col(\"tpep_dropoff_datetime\")))\n",
        "    df = df.withColumn(\"pickup_hour\", F.hour(col(\"tpep_pickup_datetime\")))\n",
        "    df = df.withColumn(\"day_of_week\", F.dayofweek(col(\"tpep_pickup_datetime\")))\n",
        "    df = df.withColumn(\"is_weekend\", when(col(\"day_of_week\").isin(1, 7), 1).otherwise(0))\n",
        "\n",
        "    df = df.withColumn(\"trip_duration\", (F.unix_timestamp(\"tpep_dropoff_datetime\") - F.unix_timestamp(\"tpep_pickup_datetime\")) / 60.0)\n",
        "\n",
        "    df = df.filter(col(\"fare_amount\") > 0)\n",
        "\n",
        "    df = df.dropna(subset=[\"pickup_hour\", \"is_weekend\", \"trip_duration\", \"fare_amount\", \"trip_distance\"])\n",
        "\n",
        "    #df = df.filter((col(\"pickup_hour\") != 0))\n",
        "\n",
        "\n",
        "    return df\n",
        "\n",
        "df = process_data(df)\n",
        "df.show(5)\n"
      ],
      "metadata": {
        "colab": {
          "base_uri": "https://localhost:8080/"
        },
        "id": "k9jjkjMyCTvB",
        "outputId": "d3bebdb7-a881-4509-9fa8-f805f45b545a"
      },
      "execution_count": null,
      "outputs": [
        {
          "output_type": "stream",
          "name": "stdout",
          "text": [
            "+--------+--------------------+---------------------+---------------+-------------+------------------+------------------+----------+------------------+------------------+------------------+------------+-----------+-----+-------+----------+------------+---------------------+------------+-----------+-----------+----------+------------------+\n",
            "|VendorID|tpep_pickup_datetime|tpep_dropoff_datetime|passenger_count|trip_distance|  pickup_longitude|   pickup_latitude|RateCodeID|store_and_fwd_flag| dropoff_longitude|  dropoff_latitude|payment_type|fare_amount|extra|mta_tax|tip_amount|tolls_amount|improvement_surcharge|total_amount|pickup_hour|day_of_week|is_weekend|     trip_duration|\n",
            "+--------+--------------------+---------------------+---------------+-------------+------------------+------------------+----------+------------------+------------------+------------------+------------+-----------+-----+-------+----------+------------+---------------------+------------+-----------+-----------+----------+------------------+\n",
            "|       2| 2015-01-15 19:05:39|  2015-01-15 19:23:42|              1|         1.59|  -73.993896484375|  40.7501106262207|         1|                 N|-73.97478485107422| 40.75061798095703|           1|       12.0|  1.0|    0.5|      3.25|         0.0|                  0.3|       17.05|         19|          5|         0|             18.05|\n",
            "|       1| 2015-01-10 20:33:38|  2015-01-10 20:53:28|              1|          3.3|-74.00164794921875|  40.7242431640625|         1|                 N|-73.99441528320312| 40.75910949707031|           1|       14.5|  0.5|    0.5|       2.0|         0.0|                  0.3|        17.8|         20|          7|         1|19.833333333333332|\n",
            "|       1| 2015-01-10 20:33:38|  2015-01-10 20:43:41|              1|          1.8|-73.96334075927734| 40.80278778076172|         1|                 N|-73.95182037353516| 40.82441329956055|           2|        9.5|  0.5|    0.5|       0.0|         0.0|                  0.3|        10.8|         20|          7|         1|             10.05|\n",
            "|       1| 2015-01-10 20:33:39|  2015-01-10 20:35:31|              1|          0.5|-74.00908660888672| 40.71381759643555|         1|                 N|-74.00432586669922| 40.71998596191406|           2|        3.5|  0.5|    0.5|       0.0|         0.0|                  0.3|         4.8|         20|          7|         1|1.8666666666666667|\n",
            "|       1| 2015-01-10 20:33:39|  2015-01-10 20:52:58|              1|          3.0|-73.97117614746094|40.762428283691406|         1|                 N|-74.00418090820312|40.742652893066406|           2|       15.0|  0.5|    0.5|       0.0|         0.0|                  0.3|        16.3|         20|          7|         1|19.316666666666666|\n",
            "+--------+--------------------+---------------------+---------------+-------------+------------------+------------------+----------+------------------+------------------+------------------+------------+-----------+-----+-------+----------+------------+---------------------+------------+-----------+-----------+----------+------------------+\n",
            "only showing top 5 rows\n",
            "\n"
          ]
        }
      ]
    },
    {
      "cell_type": "code",
      "source": [
        "df2 = df.sample(fraction=0.1)"
      ],
      "metadata": {
        "id": "6lL5t6kBC9fb"
      },
      "execution_count": null,
      "outputs": []
    },
    {
      "cell_type": "code",
      "source": [
        "assembler = VectorAssembler(\n",
        "    inputCols=[\"pickup_hour\", \"passenger_count\", \"is_weekend\", \"trip_duration\", \"trip_distance\"],\n",
        "    outputCol=\"features\"\n",
        ")\n",
        "df_ml = assembler.transform(df2).select(\"features\", \"fare_amount\")\n",
        "\n",
        "train_data, test_data = df_ml.randomSplit([0.8, 0.2], seed=42)\n",
        "feature_names = assembler.getInputCols()"
      ],
      "metadata": {
        "id": "PQhH8yqgVx-r"
      },
      "execution_count": null,
      "outputs": []
    },
    {
      "cell_type": "code",
      "source": [
        "train_data.show(5)"
      ],
      "metadata": {
        "colab": {
          "base_uri": "https://localhost:8080/"
        },
        "id": "ORC6FLAdZB7I",
        "outputId": "615f67c7-bf48-4bf2-eb0a-0033db3533a6"
      },
      "execution_count": null,
      "outputs": [
        {
          "output_type": "stream",
          "name": "stdout",
          "text": [
            "+--------------------+-----------+\n",
            "|            features|fare_amount|\n",
            "+--------------------+-----------+\n",
            "|[1.0,1.0,0.0,0.56...|        3.0|\n",
            "|[1.0,1.0,0.0,1.53...|        3.5|\n",
            "|[1.0,1.0,0.0,2.03...|        4.5|\n",
            "|[1.0,1.0,0.0,2.21...|        4.0|\n",
            "|[1.0,1.0,0.0,2.3,...|        4.0|\n",
            "+--------------------+-----------+\n",
            "only showing top 5 rows\n",
            "\n"
          ]
        }
      ]
    },
    {
      "cell_type": "code",
      "source": [
        "xgb_regressor = SparkXGBRegressor(\n",
        "    label_col=\"fare_amount\",\n",
        "    features_col=\"features\",\n",
        "    maxDepth=6,\n",
        "    n_estimators=100,\n",
        "    learningRate=0.1,\n",
        "    evalMetric=\"rmse\"\n",
        ")\n",
        "start_time = time.time()\n",
        "model = xgb_regressor.fit(train_data)\n",
        "fit_time = time.time() - start_time\n",
        "print(f\"[Timing] XGBoost model fit: {fit_time:.2f} seconds\")\n"
      ],
      "metadata": {
        "id": "Ojvma0JpVtki"
      },
      "execution_count": null,
      "outputs": []
    },
    {
      "cell_type": "code",
      "source": [
        "predict_df = model.transform(test_data)\n",
        "predict_df.show()"
      ],
      "metadata": {
        "colab": {
          "base_uri": "https://localhost:8080/"
        },
        "id": "qXMWfFotHNwY",
        "outputId": "87f96c84-50b2-410e-9d49-4ce6b8d2dfaa"
      },
      "execution_count": null,
      "outputs": [
        {
          "output_type": "stream",
          "name": "stdout",
          "text": [
            "+--------------------+-----------+-----------------+\n",
            "|            features|fare_amount|       prediction|\n",
            "+--------------------+-----------+-----------------+\n",
            "|[1.0,1.0,0.0,1.4,...|        3.5|3.745875120162964|\n",
            "|[1.0,1.0,0.0,1.63...|        4.0|    4.19287109375|\n",
            "|[1.0,1.0,0.0,1.71...|        3.5|3.874260187149048|\n",
            "|[1.0,1.0,0.0,2.56...|        5.0|5.219765663146973|\n",
            "|[1.0,1.0,0.0,3.13...|        4.0|4.094642639160156|\n",
            "|[1.0,1.0,0.0,3.31...|        5.0|5.251624584197998|\n",
            "|[1.0,1.0,0.0,3.46...|        4.5|4.577670574188232|\n",
            "|[1.0,1.0,0.0,3.8,...|        5.5|5.130946159362793|\n",
            "|[1.0,1.0,0.0,4.08...|        5.5|5.364330291748047|\n",
            "|[1.0,1.0,0.0,4.16...|        5.5|5.407935619354248|\n",
            "|[1.0,1.0,0.0,4.3,...|        5.5|5.320507526397705|\n",
            "|[1.0,1.0,0.0,4.43...|        5.5|5.349546909332275|\n",
            "|[1.0,1.0,0.0,4.58...|        7.5|7.386869430541992|\n",
            "|[1.0,1.0,0.0,4.71...|        6.5|6.100586414337158|\n",
            "|[1.0,1.0,0.0,5.13...|        7.0|6.794867515563965|\n",
            "|[1.0,1.0,0.0,5.33...|        6.0|6.295430660247803|\n",
            "|[1.0,1.0,0.0,5.6,...|        5.5|5.833592414855957|\n",
            "|[1.0,1.0,0.0,6.88...|        8.0|8.215760231018066|\n",
            "|[1.0,1.0,0.0,7.3,...|        8.0|7.705693244934082|\n",
            "|[1.0,1.0,0.0,7.48...|        7.5|7.589297771453857|\n",
            "+--------------------+-----------+-----------------+\n",
            "only showing top 20 rows\n",
            "\n"
          ]
        }
      ]
    },
    {
      "cell_type": "code",
      "source": [
        "predictions = model.transform(test_data)\n",
        "\n",
        "evaluator_rmse = RegressionEvaluator(\n",
        "    labelCol=\"fare_amount\", predictionCol=\"prediction\", metricName=\"rmse\"\n",
        ")\n",
        "rmse = evaluator_rmse.evaluate(predictions)\n",
        "print(f\"Test RMSE: {rmse:.4f}\")\n",
        "\n",
        "evaluator_mae = RegressionEvaluator(\n",
        "    labelCol=\"fare_amount\", predictionCol=\"prediction\", metricName=\"mae\"\n",
        ")\n",
        "mae = evaluator_mae.evaluate(predictions)\n",
        "print(f\"Test MAE: {mae:.4f}\")\n",
        "\n",
        "evaluator_r2 = RegressionEvaluator(\n",
        "    labelCol=\"fare_amount\", predictionCol=\"prediction\", metricName=\"r2\"\n",
        ")\n",
        "r2 = evaluator_r2.evaluate(predictions)\n",
        "print(f\"Test R-squared: {r2:.4f}\")\n",
        "\n",
        "predictions.select(\"fare_amount\", \"prediction\", \"features\").show(12, truncate=False)"
      ],
      "metadata": {
        "id": "z2nrd3AVHDjl"
      },
      "execution_count": null,
      "outputs": []
    }
  ],
  "metadata": {
    "accelerator": "TPU",
    "colab": {
      "gpuType": "V28",
      "provenance": [],
      "machine_shape": "hm"
    },
    "kernelspec": {
      "display_name": "Python 3",
      "name": "python3"
    },
    "language_info": {
      "name": "python"
    }
  },
  "nbformat": 4,
  "nbformat_minor": 0
}